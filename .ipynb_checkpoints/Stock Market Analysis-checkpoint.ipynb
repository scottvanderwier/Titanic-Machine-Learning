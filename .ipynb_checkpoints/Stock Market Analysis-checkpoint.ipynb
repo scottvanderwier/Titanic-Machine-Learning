{
 "cells": [
  {
   "cell_type": "markdown",
   "metadata": {},
   "source": [
    "Questions to Answer\n",
    "-------------------\n",
    "\n",
    "1) What was the change in price of the stock over time?\n",
    "\n",
    "2) What was the daily return of the stock on average?\n",
    "\n",
    "3) What was the moving average of the various stocks?\n",
    "\n",
    "4) What was the correlation between different stocks' closing prices?\n",
    "\n",
    "5) What was the correlation between different stocks' daily returns?\n",
    "\n",
    "6) How much value do we put at risk by investing in a particular stock?\n",
    "\n",
    "7) How can we attempt to predict future stock behaviour?"
   ]
  },
  {
   "cell_type": "code",
   "execution_count": null,
   "metadata": {
    "collapsed": true
   },
   "outputs": [],
   "source": []
  }
 ],
 "metadata": {
  "anaconda-cloud": {},
  "kernelspec": {
   "display_name": "Python [default]",
   "language": "python",
   "name": "python2"
  },
  "language_info": {
   "codemirror_mode": {
    "name": "ipython",
    "version": 2
   },
   "file_extension": ".py",
   "mimetype": "text/x-python",
   "name": "python",
   "nbconvert_exporter": "python",
   "pygments_lexer": "ipython2",
   "version": "2.7.12"
  }
 },
 "nbformat": 4,
 "nbformat_minor": 1
}
